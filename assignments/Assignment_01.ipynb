{
  "cells": [
    {
      "cell_type": "markdown",
      "metadata": {
        "id": "view-in-github",
        "colab_type": "text"
      },
      "source": [
        "<a href=\"https://colab.research.google.com/github/jyothi870/tejaswini5g5/blob/main/assignments/Assignment_01.ipynb\" target=\"_parent\"><img src=\"https://colab.research.google.com/assets/colab-badge.svg\" alt=\"Open In Colab\"/></a>"
      ]
    },
    {
      "cell_type": "markdown",
      "id": "548b84c2-e24f-4a12-98bb-5e7bd5ec86bd",
      "metadata": {
        "id": "548b84c2-e24f-4a12-98bb-5e7bd5ec86bd"
      },
      "source": [
        "# Python"
      ]
    },
    {
      "cell_type": "markdown",
      "id": "99fbfc45-ba9e-4766-8219-f5dbcacc8481",
      "metadata": {
        "id": "99fbfc45-ba9e-4766-8219-f5dbcacc8481"
      },
      "source": [
        "<a target=\"_blank\" href=\"https://colab.research.google.com/github/kgsb24/rishi-college/blob/main/assignments/Assignment_01.ipynb\">\n",
        "  <img src=\"https://colab.research.google.com/assets/colab-badge.svg\" alt=\"Open In Colab\"/>\n",
        "</a>"
      ]
    },
    {
      "cell_type": "markdown",
      "id": "07a1f870-f905-4703-8b65-12e83172133a",
      "metadata": {
        "id": "07a1f870-f905-4703-8b65-12e83172133a"
      },
      "source": [
        "## Basic Python Fundamentals"
      ]
    },
    {
      "cell_type": "code",
      "execution_count": null,
      "id": "502e1d87-2fdd-4588-a330-2af21268215e",
      "metadata": {
        "id": "502e1d87-2fdd-4588-a330-2af21268215e",
        "outputId": "d6709278-7779-46e2-a459-fd9a9db765e1",
        "colab": {
          "base_uri": "https://localhost:8080/"
        }
      },
      "outputs": [
        {
          "output_type": "stream",
          "name": "stdout",
          "text": [
            "<class 'int'>\n"
          ]
        }
      ],
      "source": [
        "# Write a Python program to declare a variable x with the value 10 and print its type.\n",
        "x=10\n",
        "print(type(10))"
      ]
    },
    {
      "cell_type": "code",
      "execution_count": null,
      "id": "dae77579-4b7d-4f06-96e0-7bdfe43860d7",
      "metadata": {
        "id": "dae77579-4b7d-4f06-96e0-7bdfe43860d7",
        "outputId": "3ccd0576-fe3b-4dc7-e266-ab77c321a57e",
        "colab": {
          "base_uri": "https://localhost:8080/"
        }
      },
      "outputs": [
        {
          "output_type": "stream",
          "name": "stdout",
          "text": [
            "30\n"
          ]
        }
      ],
      "source": [
        "# Write a Python program to declare three variables a = 5, b = 10, and c = 15, and print their sum.\n",
        "a=5\n",
        "b=10\n",
        "c=15\n",
        "sum=a+b+c\n",
        "print(sum)"
      ]
    },
    {
      "cell_type": "code",
      "execution_count": null,
      "id": "c32867b2-a615-426a-89ae-bd2793b6a4dc",
      "metadata": {
        "id": "c32867b2-a615-426a-89ae-bd2793b6a4dc",
        "outputId": "a2089d00-1803-4b73-cc6f-27b995fa21ad",
        "colab": {
          "base_uri": "https://localhost:8080/"
        }
      },
      "outputs": [
        {
          "output_type": "stream",
          "name": "stdout",
          "text": [
            "<class 'str'>\n"
          ]
        }
      ],
      "source": [
        "# Write a Python program that checks and prints the type of a variable (e.g., int, float, str, etc.).\n",
        "name=(\"tejaswini\")\n",
        "print(type(name))"
      ]
    },
    {
      "cell_type": "code",
      "source": [
        "x=7.5\n",
        "print(type(x))"
      ],
      "metadata": {
        "id": "ubYmTih6Rbrk",
        "outputId": "2a70f130-3232-487c-fe19-3ac78108d244",
        "colab": {
          "base_uri": "https://localhost:8080/"
        }
      },
      "id": "ubYmTih6Rbrk",
      "execution_count": null,
      "outputs": [
        {
          "output_type": "stream",
          "name": "stdout",
          "text": [
            "<class 'float'>\n"
          ]
        }
      ]
    },
    {
      "cell_type": "code",
      "source": [
        "a=10\n",
        "print(type(a))"
      ],
      "metadata": {
        "id": "kZ6ykXrgOgQP",
        "outputId": "08148094-bdf3-4348-9b3e-b17a2c4b783b",
        "colab": {
          "base_uri": "https://localhost:8080/"
        }
      },
      "id": "kZ6ykXrgOgQP",
      "execution_count": null,
      "outputs": [
        {
          "output_type": "stream",
          "name": "stdout",
          "text": [
            "<class 'int'>\n"
          ]
        }
      ]
    },
    {
      "cell_type": "code",
      "execution_count": null,
      "id": "8b233e41-9d44-4869-9ead-afb3ff1c0b67",
      "metadata": {
        "id": "8b233e41-9d44-4869-9ead-afb3ff1c0b67",
        "outputId": "7d8a7812-0735-4438-8de1-419743e4014f",
        "colab": {
          "base_uri": "https://localhost:8080/"
        }
      },
      "outputs": [
        {
          "output_type": "stream",
          "name": "stdout",
          "text": [
            "Enter a number:57\n",
            "Enter a number:65\n",
            "addition: 122\n",
            "subtraction: -8\n",
            " multiplication: 57\n",
            " division: 0.8769230769230769\n"
          ]
        }
      ],
      "source": [
        "# Write a Python program to perform addition, subtraction, multiplication, and division on two numbers. (User input is required for the numbers)\n",
        "a=int(input(\"Enter a number:\"))\n",
        "b=int(input(\"Enter a number:\"))\n",
        "print(\"addition:\",a+b)\n",
        "print(\"subtraction:\",a-b)\n",
        "print(\" multiplication:\",a%b)\n",
        "print(\" division:\",a/b)"
      ]
    },
    {
      "cell_type": "code",
      "execution_count": null,
      "id": "629435bd-6bfa-44de-91d9-3b2937713257",
      "metadata": {
        "id": "629435bd-6bfa-44de-91d9-3b2937713257",
        "outputId": "1746884c-9c16-413c-9248-fcb25611cb8a",
        "colab": {
          "base_uri": "https://localhost:8080/"
        }
      },
      "outputs": [
        {
          "output_type": "stream",
          "name": "stdout",
          "text": [
            "123.0\n"
          ]
        }
      ],
      "source": [
        "# Write a Python program to convert a string \"123\" to an integer and a float and print the results.\n",
        "a=123\n",
        "print(float(a))"
      ]
    },
    {
      "cell_type": "code",
      "execution_count": null,
      "id": "599421f1-51c1-4653-9d78-b007fcc6861b",
      "metadata": {
        "id": "599421f1-51c1-4653-9d78-b007fcc6861b",
        "outputId": "1a5e9886-dae2-48ac-ebe4-99ab0b81995d",
        "colab": {
          "base_uri": "https://localhost:8080/"
        }
      },
      "outputs": [
        {
          "output_type": "stream",
          "name": "stdout",
          "text": [
            "Enter a string: tejaswini\n",
            "The first character of the string is: t\n"
          ]
        }
      ],
      "source": [
        "# Write a Python program to print the first character of a given string. (User input for the string)\n",
        "# Get user input\n",
        "user_string = input(\"Enter a string: \")\n",
        "\n",
        "# Check if the string is not empty\n",
        "if user_string:\n",
        "    # Print the first character\n",
        "    print(\"The first character of the string is:\", user_string[0])\n",
        "else:\n",
        "    print(\"You entered an empty string!\")"
      ]
    },
    {
      "cell_type": "code",
      "execution_count": null,
      "id": "54ee0a5d-415f-40b6-b82e-c0de12a002f9",
      "metadata": {
        "id": "54ee0a5d-415f-40b6-b82e-c0de12a002f9",
        "outputId": "8a232e21-5e22-4672-faf9-6b47bc3535a1",
        "colab": {
          "base_uri": "https://localhost:8080/"
        }
      },
      "outputs": [
        {
          "output_type": "stream",
          "name": "stdout",
          "text": [
            "Enter a string: tejaswini\n",
            "The length of the string is: 9\n"
          ]
        }
      ],
      "source": [
        "# Write a Python program to print the length of a string. (User input for the string)\n",
        "# Get user input\n",
        "user_string = input(\"Enter a string: \")\n",
        "\n",
        "# Calculate and print the length of the string\n",
        "string_length = len(user_string)\n",
        "print(\"The length of the string is:\", string_length)"
      ]
    },
    {
      "cell_type": "code",
      "execution_count": null,
      "id": "65f44c33-618e-4337-a9d1-9de888c93a0a",
      "metadata": {
        "id": "65f44c33-618e-4337-a9d1-9de888c93a0a",
        "outputId": "e7536d93-cc54-4061-f23a-d8fae080062a",
        "colab": {
          "base_uri": "https://localhost:8080/"
        }
      },
      "outputs": [
        {
          "output_type": "stream",
          "name": "stdout",
          "text": [
            "Enter a string: tejaswini\n",
            "The string contains only alphabets.\n"
          ]
        }
      ],
      "source": [
        "# Write a Python program to check if a given string contains only alphabets.\n",
        "# Get user input\n",
        "user_string = input(\"Enter a string: \")\n",
        "\n",
        "# Check if the string contains only alphabets\n",
        "if user_string.isalpha():\n",
        "    print(\"The string contains only alphabets.\")\n",
        "else:\n",
        "    print(\"The string contains characters other than alphabets.\")"
      ]
    },
    {
      "cell_type": "code",
      "execution_count": null,
      "id": "37463128-2b51-4860-b6bf-40d3c03fbe84",
      "metadata": {
        "id": "37463128-2b51-4860-b6bf-40d3c03fbe84",
        "outputId": "4808dd15-e86f-4609-a278-e7e0d5565a76",
        "colab": {
          "base_uri": "https://localhost:8080/"
        }
      },
      "outputs": [
        {
          "output_type": "stream",
          "name": "stdout",
          "text": [
            "Enter the first string: tejaswini\n",
            "Enter the second string: unikela\n",
            "The concatenated string is: tejaswiniunikela\n"
          ]
        }
      ],
      "source": [
        "# Write a Python program to concatenate two strings. (User input for the strings)\n",
        "# Get user input for the two strings\n",
        "string1 = input(\"Enter the first string: \")\n",
        "string2 = input(\"Enter the second string: \")\n",
        "\n",
        "# Concatenate the strings\n",
        "concatenated_string = string1 + string2\n",
        "\n",
        "# Print the result\n",
        "print(\"The concatenated string is:\", concatenated_string)"
      ]
    },
    {
      "cell_type": "code",
      "execution_count": null,
      "id": "b1c5d364-eccf-473a-b03a-ab15f3e917cf",
      "metadata": {
        "id": "b1c5d364-eccf-473a-b03a-ab15f3e917cf",
        "outputId": "6286cc42-8148-4630-c96d-76d39fbc9c61",
        "colab": {
          "base_uri": "https://localhost:8080/"
        }
      },
      "outputs": [
        {
          "output_type": "stream",
          "name": "stdout",
          "text": [
            "Enter a string: abcxyz123\n",
            "The substring 'abc' is found at index 0.\n"
          ]
        }
      ],
      "source": [
        "# Write a Python program to find the index of a substring \"abc\" in a string. (User input for the string)\n",
        "# Get user input for the string\n",
        "user_string = input(\"Enter a string: \")\n",
        "\n",
        "# Find the index of the substring \"abc\"\n",
        "index = user_string.find(\"abc\")\n",
        "\n",
        "# Check if the substring is found\n",
        "if index != -1:\n",
        "    print(f\"The substring 'abc' is found at index {index}.\")\n",
        "else:\n",
        "    print(\"The substring 'abc' is not found in the string.\")"
      ]
    },
    {
      "cell_type": "code",
      "execution_count": null,
      "id": "cc92afd9-ba4b-4934-a79d-f26825b4efc2",
      "metadata": {
        "id": "cc92afd9-ba4b-4934-a79d-f26825b4efc2",
        "outputId": "ba8ea514-886a-4e57-cbf7-139db38215ec",
        "colab": {
          "base_uri": "https://localhost:8080/"
        }
      },
      "outputs": [
        {
          "output_type": "stream",
          "name": "stdout",
          "text": [
            "Enter a string: unikela\n",
            "The string in uppercase is: UNIKELA\n",
            "The string in lowercase is: unikela\n"
          ]
        }
      ],
      "source": [
        "# Write a Python program to convert a string to both uppercase and lowercase. (User input for the string)\n",
        "# Get user input for the string\n",
        "user_string = input(\"Enter a string: \")\n",
        "\n",
        "# Convert the string to uppercase and lowercase\n",
        "uppercase_string = user_string.upper()\n",
        "lowercase_string = user_string.lower()\n",
        "\n",
        "# Print the results\n",
        "print(\"The string in uppercase is:\", uppercase_string)\n",
        "print(\"The string in lowercase is:\", lowercase_string)"
      ]
    },
    {
      "cell_type": "code",
      "execution_count": null,
      "id": "f24f79b3-da8b-44bf-8310-c68442e86e3e",
      "metadata": {
        "id": "f24f79b3-da8b-44bf-8310-c68442e86e3e",
        "outputId": "0b434070-d2b6-4a51-b38a-76830f0d0cac",
        "colab": {
          "base_uri": "https://localhost:8080/"
        }
      },
      "outputs": [
        {
          "output_type": "stream",
          "name": "stdout",
          "text": [
            "Enter a string: tejaswininagasrijyothi\n",
            "Enter a character to count: i\n",
            "The character 'i' appears 4 times in the string.\n"
          ]
        }
      ],
      "source": [
        "# Write a Python program to count how many times a particular character appears in a string. (User input for string and character)\n",
        "# Get user input for the string and the character\n",
        "user_string = input(\"Enter a string: \")\n",
        "character = input(\"Enter a character to count: \")\n",
        "\n",
        "# Validate if a single character is entered\n",
        "if len(character) != 1:\n",
        "    print(\"Please enter only one character.\")\n",
        "else:\n",
        "    # Count occurrences of the character\n",
        "    count = user_string.count(character)\n",
        "    print(f\"The character '{character}' appears {count} times in the string.\")"
      ]
    },
    {
      "cell_type": "code",
      "execution_count": null,
      "id": "f2e8f25c-5c34-44eb-b749-7cc4c100b9a8",
      "metadata": {
        "id": "f2e8f25c-5c34-44eb-b749-7cc4c100b9a8",
        "outputId": "25c161b4-7b0d-4ada-d104-d247d457a41f",
        "colab": {
          "base_uri": "https://localhost:8080/"
        }
      },
      "outputs": [
        {
          "output_type": "stream",
          "name": "stdout",
          "text": [
            "Enter your name: tejaswini\n",
            "Hello, tejaswini, Good Morning!\n"
          ]
        }
      ],
      "source": [
        "# Write a Python program to take the user's name as input and print a personalized greeting. (Hello, username, Good Morning)\n",
        "# Get the user's name\n",
        "user_name = input(\"Enter your name: \")\n",
        "\n",
        "# Print a personalized greeting\n",
        "print(f\"Hello, {user_name}, Good Morning!\")"
      ]
    },
    {
      "cell_type": "code",
      "execution_count": null,
      "id": "189296cf-77e6-4f48-b010-77458da5bc9d",
      "metadata": {
        "id": "189296cf-77e6-4f48-b010-77458da5bc9d",
        "outputId": "ae3374d6-04fe-4715-e260-083e1a430591",
        "colab": {
          "base_uri": "https://localhost:8080/"
        }
      },
      "outputs": [
        {
          "output_type": "stream",
          "name": "stdout",
          "text": [
            "Enter the first number: 5\n",
            "Enter the second number: 7\n",
            "The sum of 5.0 and 7.0 is: 12.0\n"
          ]
        }
      ],
      "source": [
        "# Write a Python program to take two numbers as input and print their sum.\n",
        "# Get user input for two numbers\n",
        "num1 = float(input(\"Enter the first number: \"))\n",
        "num2 = float(input(\"Enter the second number: \"))\n",
        "\n",
        "# Calculate the sum\n",
        "total = num1 + num2\n",
        "\n",
        "# Print the result\n",
        "print(f\"The sum of {num1} and {num2} is: {total}\")"
      ]
    },
    {
      "cell_type": "code",
      "execution_count": null,
      "id": "0563b26c-0218-47b8-9035-98beb73b0931",
      "metadata": {
        "id": "0563b26c-0218-47b8-9035-98beb73b0931",
        "outputId": "6f123702-4f6c-4c23-cb44-b9e637186ae1",
        "colab": {
          "base_uri": "https://localhost:8080/"
        }
      },
      "outputs": [
        {
          "output_type": "stream",
          "name": "stdout",
          "text": [
            "Enter your name: tejaswini\n",
            "Enter your age: 19\n",
            "Hello, tejaswini! You are 19 years old.\n"
          ]
        }
      ],
      "source": [
        "# Write a Python program to format and display a string containing the user's name and age. (User input required)\n",
        "# Get user input for name and age\n",
        "name = input(\"Enter your name: \")\n",
        "age = input(\"Enter your age: \")\n",
        "\n",
        "# Format and display the string\n",
        "print(f\"Hello, {name}! You are {age} years old.\")"
      ]
    },
    {
      "cell_type": "markdown",
      "id": "0bde6e5a-0415-4b06-8b5a-95fa252b34eb",
      "metadata": {
        "id": "0bde6e5a-0415-4b06-8b5a-95fa252b34eb"
      },
      "source": [
        "## Control Structures (Conditionals and Loops)"
      ]
    },
    {
      "cell_type": "code",
      "execution_count": null,
      "id": "aefff5f3-b61e-43e6-a458-7367ef1af9de",
      "metadata": {
        "id": "aefff5f3-b61e-43e6-a458-7367ef1af9de",
        "outputId": "26d6dd65-d08a-4de6-c97c-8321d8d01282",
        "colab": {
          "base_uri": "https://localhost:8080/"
        }
      },
      "outputs": [
        {
          "output_type": "stream",
          "name": "stdout",
          "text": [
            "Enter a number: 7\n",
            "Positive number\n"
          ]
        }
      ],
      "source": [
        "# Write a Python program that takes a number as input and checks whether it is positive, negative, or zero.\n",
        "num = float(input(\"Enter a number: \"))\n",
        "if num > 0:\n",
        "   print(\"Positive number\")\n",
        "elif num == 0:\n",
        "   print(\"Zero\")\n",
        "else:\n",
        "   print(\"Negative number\")"
      ]
    },
    {
      "cell_type": "code",
      "execution_count": null,
      "id": "4dc6d14b-6d22-4348-859a-2a03f9be65f7",
      "metadata": {
        "id": "4dc6d14b-6d22-4348-859a-2a03f9be65f7",
        "outputId": "625ff702-f94b-4f92-de28-f0e35d661517",
        "colab": {
          "base_uri": "https://localhost:8080/"
        }
      },
      "outputs": [
        {
          "output_type": "stream",
          "name": "stdout",
          "text": [
            "14\n"
          ]
        }
      ],
      "source": [
        "# Write a Python program to find the maximum of three numbers. (User input for the numbers)\n",
        "# Python program to find the largest\n",
        "# number among the three numbers\n",
        "\n",
        "def maximum(a, b, c):\n",
        "\n",
        "    if (a >= b) and (a >= c):\n",
        "        largest = a\n",
        "\n",
        "    elif (b >= a) and (b >= c):\n",
        "        largest = b\n",
        "    else:\n",
        "        largest = c\n",
        "\n",
        "    return largest\n",
        "\n",
        "\n",
        "# Driven code\n",
        "a = 10\n",
        "b = 14\n",
        "c = 12\n",
        "print(maximum(a,b,c))"
      ]
    },
    {
      "cell_type": "code",
      "execution_count": null,
      "id": "3f6d1f45-eb68-4142-89d6-510046f21879",
      "metadata": {
        "id": "3f6d1f45-eb68-4142-89d6-510046f21879",
        "outputId": "cc73a8d9-faff-4c31-c1e3-874bf4e7169b",
        "colab": {
          "base_uri": "https://localhost:8080/"
        }
      },
      "outputs": [
        {
          "output_type": "stream",
          "name": "stdout",
          "text": [
            "Enter a year:2025\n",
            " {year} is not a leap year.\n"
          ]
        }
      ],
      "source": [
        "# Write a Python program to check if a year is a leap year. (User input for the year)\n",
        "year = int(input(\"Enter a year:\"))\n",
        "import calendar\n",
        "if calendar.isleap(year):\n",
        "  print(\"{year} is a leap year.\")\n",
        "else :\n",
        "  print(\" {year} is not a leap year.\")"
      ]
    },
    {
      "cell_type": "code",
      "execution_count": null,
      "id": "b6a07105-6fa5-4f70-b64b-ebd66afc3c2b",
      "metadata": {
        "id": "b6a07105-6fa5-4f70-b64b-ebd66afc3c2b",
        "outputId": "6e12ae2f-3cbd-416c-eee2-7bb3985fec9e",
        "colab": {
          "base_uri": "https://localhost:8080/"
        }
      },
      "outputs": [
        {
          "output_type": "stream",
          "name": "stdout",
          "text": [
            "Enter lower range limit:0\n",
            "Enter upper range limit:100\n",
            "0\n",
            "15\n",
            "30\n",
            "45\n",
            "60\n",
            "75\n",
            "90\n"
          ]
        }
      ],
      "source": [
        "# Write a Python program to check if a number is divisible by both 3 and 5. (User input for the number)\n",
        "lower = int(input(\"Enter lower range limit:\"))\n",
        "upper = int(input(\"Enter upper range limit:\"))\n",
        "for i in range(lower, upper+1):\n",
        "   if((i%3==0) and (i%5==0)):\n",
        "    print(i)"
      ]
    },
    {
      "cell_type": "code",
      "execution_count": null,
      "id": "d10c9005-b85d-42f9-81d0-65d149415888",
      "metadata": {
        "id": "d10c9005-b85d-42f9-81d0-65d149415888",
        "outputId": "5bc02c5e-421b-4cc5-83ce-9ae1a47d20d8",
        "colab": {
          "base_uri": "https://localhost:8080/"
        }
      },
      "outputs": [
        {
          "output_type": "stream",
          "name": "stdout",
          "text": [
            "Enter a string: wow\n",
            "The string is a palindrome.\n"
          ]
        }
      ],
      "source": [
        "# Write a Python program to check if a string is a palindrome. (User input for the string)\n",
        "# Get user input for the string\n",
        "user_string = input(\"Enter a string: \")\n",
        "\n",
        "# Remove spaces and convert to lowercase for a case-insensitive check\n",
        "cleaned_string = user_string.replace(\" \", \"\").lower()\n",
        "\n",
        "# Check if the string is equal to its reverse\n",
        "if cleaned_string == cleaned_string[::-1]:\n",
        "    print(\"The string is a palindrome.\")\n",
        "else:\n",
        "    print(\"The string is not a palindrome.\")"
      ]
    },
    {
      "cell_type": "code",
      "execution_count": null,
      "id": "82d76cdf-efc6-45c6-ab09-9d1f17b3d857",
      "metadata": {
        "id": "82d76cdf-efc6-45c6-ab09-9d1f17b3d857",
        "outputId": "e1ba2eaa-5778-46d1-d8d4-9499f44c7ecb",
        "colab": {
          "base_uri": "https://localhost:8080/"
        }
      },
      "outputs": [
        {
          "output_type": "stream",
          "name": "stdout",
          "text": [
            "0\n",
            "1\n",
            "2\n",
            "3\n",
            "4\n",
            "5\n",
            "6\n",
            "7\n",
            "8\n",
            "9\n",
            "10\n",
            "11\n",
            "12\n",
            "13\n",
            "14\n",
            "15\n",
            "16\n",
            "17\n",
            "18\n",
            "19\n",
            "20\n",
            "21\n",
            "22\n",
            "23\n",
            "24\n",
            "25\n",
            "26\n",
            "27\n",
            "28\n",
            "29\n",
            "30\n",
            "31\n",
            "32\n",
            "33\n",
            "34\n",
            "35\n",
            "36\n",
            "37\n",
            "38\n",
            "39\n",
            "40\n",
            "41\n",
            "42\n",
            "43\n",
            "44\n",
            "45\n",
            "46\n",
            "47\n",
            "48\n",
            "49\n"
          ]
        }
      ],
      "source": [
        "# Write a Python program to print numbers from 1 to 10 using a for loop.\n",
        "# Use a for loop to print numbers from 1 to 10\n",
        "for num in range(0, 50):\n",
        "    print(num)"
      ]
    },
    {
      "cell_type": "code",
      "execution_count": null,
      "id": "d09e8994-e984-4c12-ab1e-1bfc6938a389",
      "metadata": {
        "id": "d09e8994-e984-4c12-ab1e-1bfc6938a389",
        "outputId": "d0f6d032-2fd4-48ad-950b-541bbc8f8b20",
        "colab": {
          "base_uri": "https://localhost:8080/"
        }
      },
      "outputs": [
        {
          "output_type": "stream",
          "name": "stdout",
          "text": [
            "2\n",
            "4\n",
            "6\n",
            "8\n",
            "10\n",
            "12\n",
            "14\n",
            "16\n",
            "18\n",
            "20\n"
          ]
        }
      ],
      "source": [
        "# Write a Python program to print all even numbers from 1 to 20 using a while loop.\n",
        "# Initialize the starting number\n",
        "number = 1\n",
        "\n",
        "# Use a while loop to iterate through numbers from 1 to 20\n",
        "while number <= 20:\n",
        "    # Check if the number is even\n",
        "    if number % 2 == 0:\n",
        "        print(number)\n",
        "    # Increment the number\n",
        "    number += 1\n"
      ]
    },
    {
      "cell_type": "code",
      "execution_count": null,
      "id": "c09ca878-167e-49ca-97f0-247a43c9b472",
      "metadata": {
        "id": "c09ca878-167e-49ca-97f0-247a43c9b472",
        "outputId": "677ad203-9f3f-4163-b088-89344e902742",
        "colab": {
          "base_uri": "https://localhost:8080/"
        }
      },
      "outputs": [
        {
          "output_type": "stream",
          "name": "stdout",
          "text": [
            "Enter a number to print its multiplication table: 55\n",
            "Multiplication table of 55:\n",
            "55 x 1 = 55\n",
            "55 x 2 = 110\n",
            "55 x 3 = 165\n",
            "55 x 4 = 220\n",
            "55 x 5 = 275\n",
            "55 x 6 = 330\n",
            "55 x 7 = 385\n",
            "55 x 8 = 440\n",
            "55 x 9 = 495\n",
            "55 x 10 = 550\n",
            "55 x 11 = 605\n",
            "55 x 12 = 660\n",
            "55 x 13 = 715\n",
            "55 x 14 = 770\n",
            "55 x 15 = 825\n",
            "55 x 16 = 880\n",
            "55 x 17 = 935\n",
            "55 x 18 = 990\n",
            "55 x 19 = 1045\n",
            "55 x 20 = 1100\n"
          ]
        }
      ],
      "source": [
        "# Write a Python program to print the multiplication table of a given number using a for loop. (User input for the number)\n",
        "# Get user input for the number\n",
        "number = int(input(\"Enter a number to print its multiplication table: \"))\n",
        "\n",
        "# Print the multiplication table\n",
        "print(f\"Multiplication table of {number}:\")\n",
        "for i in range(1, 21):\n",
        "    print(f\"{number} x {i} = {number * i}\")"
      ]
    },
    {
      "cell_type": "code",
      "execution_count": null,
      "id": "b72118ab-e62d-4af9-bcec-e1cc6af31b25",
      "metadata": {
        "id": "b72118ab-e62d-4af9-bcec-e1cc6af31b25",
        "outputId": "6cb72a8d-51a2-4b24-fc22-5eeced504c21",
        "colab": {
          "base_uri": "https://localhost:8080/"
        }
      },
      "outputs": [
        {
          "output_type": "stream",
          "name": "stdout",
          "text": [
            "Enter a number n: 7\n",
            "The sum of all numbers from 1 to 7 is: 28\n"
          ]
        }
      ],
      "source": [
        "# Write a Python program to calculate the sum of all numbers from 1 to n using a while loop. (User input for n)\n",
        "# Get user input for the value of n\n",
        "n = int(input(\"Enter a number n: \"))\n",
        "\n",
        "# Initialize sum variable\n",
        "sum_numbers = 0\n",
        "i = 1\n",
        "\n",
        "# Use a while loop to calculate the sum\n",
        "while i <= n:\n",
        "    sum_numbers += i\n",
        "    i += 1\n",
        "\n",
        "# Print the result\n",
        "print(f\"The sum of all numbers from 1 to {n} is: {sum_numbers}\")"
      ]
    },
    {
      "cell_type": "code",
      "execution_count": null,
      "id": "ae93621f-11a2-40b7-97bc-3002f03ac36a",
      "metadata": {
        "id": "ae93621f-11a2-40b7-97bc-3002f03ac36a",
        "outputId": "f20b0db0-bfbc-46a6-e456-077cab4ded1f",
        "colab": {
          "base_uri": "https://localhost:8080/"
        }
      },
      "outputs": [
        {
          "output_type": "stream",
          "name": "stdout",
          "text": [
            "Enter a positive integer: -7\n",
            "Factorial is not defined for negative numbers.\n"
          ]
        }
      ],
      "source": [
        "# Write a Python program to calculate the factorial of a number using a while loop. (User input for the number)\n",
        "num = int(input(\"Enter a positive integer: \"))\n",
        "if num < 0:\n",
        "    print(\"Factorial is not defined for negative numbers.\")\n",
        "else:\n",
        "    factorial = 1\n",
        "    i = 1\n",
        "    while i <= num:\n",
        "        factorial *= i\n",
        "        i += 1\n",
        "    print(f\"The factorial of {num} is {factorial}.\")"
      ]
    },
    {
      "cell_type": "code",
      "execution_count": null,
      "id": "68467ccc-d696-4ef1-84c4-164c9d87f755",
      "metadata": {
        "id": "68467ccc-d696-4ef1-84c4-164c9d87f755",
        "outputId": "9e8f59ae-8fda-4b4b-c846-c0f7d629f5d2",
        "colab": {
          "base_uri": "https://localhost:8080/"
        }
      },
      "outputs": [
        {
          "output_type": "stream",
          "name": "stdout",
          "text": [
            "Enter the number of terms: 7\n",
            "Fibonacci sequence up to 7 terms:\n",
            "0112358"
          ]
        }
      ],
      "source": [
        "# Write a Python program to print the Fibonacci sequence up to n terms. (User input for n)\n",
        "n = int(input(\"Enter the number of terms: \"))\n",
        "if n <= 0:\n",
        "    print(\"Please enter a positive integer.\")\n",
        "else:\n",
        "     a,b = 0,1\n",
        "     count = 0\n",
        "     print(f\"Fibonacci sequence up to {n} terms:\")\n",
        "while count < n:\n",
        "  print(a,end=\"\")\n",
        "  nth = a + b\n",
        "  a = b\n",
        "  b = nth\n",
        "  count += 1"
      ]
    },
    {
      "cell_type": "code",
      "execution_count": null,
      "id": "5bebd1f3-2606-4102-aa55-01cb1650f632",
      "metadata": {
        "id": "5bebd1f3-2606-4102-aa55-01cb1650f632",
        "outputId": "6d81453e-6be9-4686-be9c-820018a64c99",
        "colab": {
          "base_uri": "https://localhost:8080/"
        }
      },
      "outputs": [
        {
          "output_type": "stream",
          "name": "stdout",
          "text": [
            "Prime numbers from 1 to 100:\n",
            "[2, 3, 5, 7, 11, 13, 17, 19, 23, 29, 31, 37, 41, 43, 47, 53, 59, 61, 67, 71, 73, 79, 83, 89, 97]\n"
          ]
        }
      ],
      "source": [
        "# Write a Python program to find all the prime numbers from 1 to 100.\n",
        "def is_prime(num):\n",
        "    if num <= 1:\n",
        "        return False\n",
        "    for i in range(2, int(num ** 0.5) + 1):\n",
        "        if num % i == 0:\n",
        "            return False\n",
        "    return True\n",
        "\n",
        "def find_primes_in_range(start, end):\n",
        "    primes = []\n",
        "    for num in range(start, end + 1):\n",
        "        if is_prime(num):\n",
        "            primes.append(num)\n",
        "    return primes\n",
        "\n",
        "primes = find_primes_in_range(1, 100)\n",
        "print(\"Prime numbers from 1 to 100:\")\n",
        "print(primes)"
      ]
    },
    {
      "cell_type": "code",
      "execution_count": null,
      "id": "0a3f894e-52ba-4c0b-9158-a70f31f4fd49",
      "metadata": {
        "id": "0a3f894e-52ba-4c0b-9158-a70f31f4fd49",
        "outputId": "0b551b24-d9d7-442b-90c6-9bb123e07db5",
        "colab": {
          "base_uri": "https://localhost:8080/"
        }
      },
      "outputs": [
        {
          "output_type": "stream",
          "name": "stdout",
          "text": [
            "Generated numbers: [77, 177, 109, 30, 27, 154, 95, 178, 179, 99, 69, 10, 102, 101, 176, 161, 57, 88, 159, 37]\n",
            "Number greater than 50 found: 77\n"
          ]
        }
      ],
      "source": [
        "# Write a Python program that breaks out of a loop when a specific condition is met (e.g., when a number greater than 50 is found).\n",
        "import random\n",
        "numbers = [random.randint(1, 200) for _ in range(20)]\n",
        "print(\"Generated numbers:\", numbers)\n",
        "for number in numbers:\n",
        "    if number > 50:\n",
        "        print(f\"Number greater than 50 found: {number}\")\n",
        "        break\n",
        "else:\n",
        "    print(\"No number greater than 50 found.\")"
      ]
    },
    {
      "cell_type": "code",
      "execution_count": null,
      "id": "499b91d0-1f1b-494f-af2b-8cc3a06d90ed",
      "metadata": {
        "id": "499b91d0-1f1b-494f-af2b-8cc3a06d90ed",
        "outputId": "341c9c44-6861-4ed7-eb08-b44788fa9e0a",
        "colab": {
          "base_uri": "https://localhost:8080/"
        }
      },
      "outputs": [
        {
          "output_type": "stream",
          "name": "stdout",
          "text": [
            "Enter lower range limit:1\n",
            "Enter upper range limit:20\n",
            "1\n",
            "3\n",
            "5\n",
            "7\n",
            "9\n",
            "11\n",
            "13\n",
            "15\n",
            "17\n",
            "19\n"
          ]
        }
      ],
      "source": [
        "# Write a Python program to skip even numbers while printing numbers from 1 to 20 using a for loop.\n",
        "lower = int(input(\"Enter lower range limit:\"))\n",
        "upper = int(input(\"Enter upper range limit:\"))\n",
        "for number in range(lower, upper):\n",
        "    if number % 2 == 0:\n",
        "        continue\n",
        "    print(number)"
      ]
    },
    {
      "cell_type": "code",
      "execution_count": null,
      "id": "f8ffed70-dfde-4262-a2fd-0d35d69b5fb1",
      "metadata": {
        "id": "f8ffed70-dfde-4262-a2fd-0d35d69b5fb1",
        "outputId": "2c779e2f-ae80-48ac-eb2c-a908b2251d67",
        "colab": {
          "base_uri": "https://localhost:8080/"
        }
      },
      "outputs": [
        {
          "name": "stdout",
          "output_type": "stream",
          "text": [
            "Enter a string: 9\n",
            "Enter a character to count its occurrences: 10\n"
          ]
        }
      ],
      "source": [
        "# Write a Python program to count how many times a particular character appears in a string using a for loop. (User input for string and character)\n",
        "string = input(\"Enter a string: \")\n",
        "string = input(\"Enter a character to count its occurrences: \")\n",
        "count = 0\n",
        "for char in string:\n",
        "    if char == character:\n",
        "        count += 1"
      ]
    },
    {
      "cell_type": "code",
      "execution_count": null,
      "id": "01f976ed-4dcd-4842-ae84-d3b5cc42d011",
      "metadata": {
        "id": "01f976ed-4dcd-4842-ae84-d3b5cc42d011",
        "outputId": "95479356-a538-4472-ef81-b7da68d17170",
        "colab": {
          "base_uri": "https://localhost:8080/"
        }
      },
      "outputs": [
        {
          "name": "stdout",
          "output_type": "stream",
          "text": [
            "Enter a number: 765\n"
          ]
        }
      ],
      "source": [
        "# Write a Python program to calculate the sum of digits of a number. (User input for the number)\n",
        "number = int(input(\"Enter a number: \"))\n",
        "sum_of_digits = 0\n",
        "while number > 0:\n",
        "    digit = number % 10\n",
        "    sum_of_digits += digit\n",
        "    number //= 10"
      ]
    },
    {
      "cell_type": "markdown",
      "id": "fe644fae-f262-48dd-b7ff-08eb747d297e",
      "metadata": {
        "id": "fe644fae-f262-48dd-b7ff-08eb747d297e"
      },
      "source": [
        "## Data Structures (Lists, Tuples, Sets, Dictionaries)"
      ]
    },
    {
      "cell_type": "code",
      "execution_count": null,
      "id": "a0333c26-8e19-4c71-9722-d32cf8625ef6",
      "metadata": {
        "id": "a0333c26-8e19-4c71-9722-d32cf8625ef6",
        "outputId": "79a61e96-7e2a-4c27-8aa2-3dc7ea8785eb",
        "colab": {
          "base_uri": "https://localhost:8080/"
        }
      },
      "outputs": [
        {
          "output_type": "stream",
          "name": "stdout",
          "text": [
            "Sum of elements: 55\n",
            "[1, 2, 3, 4, 5, 6, 7, 8, 9, 10]\n"
          ]
        }
      ],
      "source": [
        "# Write a Python program to create a list of integers and print the sum of the elements.\n",
        "numbers = [1, 2, 3, 4, 5, 6, 7, 8, 9, 10]\n",
        "sum_of_elements = sum(numbers)\n",
        "print(\"Sum of elements:\", sum_of_elements)\n",
        "print(numbers)"
      ]
    },
    {
      "cell_type": "code",
      "execution_count": null,
      "id": "5a23046d-80b0-4f8d-a02f-4e3d833c0443",
      "metadata": {
        "id": "5a23046d-80b0-4f8d-a02f-4e3d833c0443",
        "outputId": "f5b6f22f-5b35-4882-9db2-424c64181149",
        "colab": {
          "base_uri": "https://localhost:8080/"
        }
      },
      "outputs": [
        {
          "output_type": "stream",
          "name": "stdout",
          "text": [
            "Largest element: 97\n"
          ]
        }
      ],
      "source": [
        "# Write a Python program to find the largest element in a list.\n",
        "numbers = [1, 6, 29, 25, 39, 97, 25, 19, 45, 5, 7, 10]\n",
        "largest_element = max(numbers)\n",
        "print(\"Largest element:\", largest_element)"
      ]
    },
    {
      "cell_type": "code",
      "execution_count": null,
      "id": "9939c2d2-90fd-4e80-81bc-227c72e60e37",
      "metadata": {
        "id": "9939c2d2-90fd-4e80-81bc-227c72e60e37",
        "outputId": "03ec06c0-3e46-459a-b2e7-c4e630aa920d",
        "colab": {
          "base_uri": "https://localhost:8080/"
        }
      },
      "outputs": [
        {
          "output_type": "stream",
          "name": "stdout",
          "text": [
            "Reversed list: [3, 7, 4, 5, 9]\n"
          ]
        }
      ],
      "source": [
        "# Write a Python program to reverse a list.\n",
        "numbers = [9, 5, 4, 7, 3]\n",
        "reversed_list = numbers[::-1]\n",
        "print(\"Reversed list:\", reversed_list)"
      ]
    },
    {
      "cell_type": "code",
      "execution_count": null,
      "id": "aa287db8-057b-48d4-a6d8-18cc53eb7178",
      "metadata": {
        "id": "aa287db8-057b-48d4-a6d8-18cc53eb7178",
        "outputId": "836e81e9-3e90-4002-e874-52de212a071c",
        "colab": {
          "base_uri": "https://localhost:8080/"
        }
      },
      "outputs": [
        {
          "output_type": "stream",
          "name": "stdout",
          "text": [
            "original list: [3, 9, 5, 6, 8, 5, 7, 1, 5, 4]\n",
            "list after removing all occurrence of 5\n"
          ]
        },
        {
          "output_type": "execute_result",
          "data": {
            "text/plain": [
              "(None, ':', [3, 9, 6, 8, 7, 1, 4])"
            ]
          },
          "metadata": {},
          "execution_count": 23
        }
      ],
      "source": [
        "# Write a Python program to remove all occurrences of a specific element from a list.\n",
        "numbers = [3, 9, 5, 6, 8, 5, 7, 1, 5, 4]\n",
        "print(\"original list:\",numbers)\n",
        "element_to_remove = 5\n",
        "numbers = [num for num in numbers if num != element_to_remove]\n",
        "print(\"list after removing all occurrence of\",element_to_remove),\":\",numbers"
      ]
    },
    {
      "cell_type": "code",
      "execution_count": null,
      "id": "da9ba926-0ab5-46e9-b66d-128088c3225b",
      "metadata": {
        "id": "da9ba926-0ab5-46e9-b66d-128088c3225b",
        "outputId": "ff08ff40-b0f8-4e5d-8f50-8e7b110cbef4",
        "colab": {
          "base_uri": "https://localhost:8080/"
        }
      },
      "outputs": [
        {
          "output_type": "stream",
          "name": "stdout",
          "text": [
            "Index of 70 : 1\n",
            "[90, 70, 50, 30, 20, 40]\n"
          ]
        }
      ],
      "source": [
        "# Write a Python program to find the index of an element in a list.\n",
        "numbers = [90, 70, 50, 30, 20, 40]\n",
        "element_to_find = 70\n",
        "index = numbers.index(element_to_find)\n",
        "print(\"Index of\",element_to_find,\":\",index)\n",
        "print(numbers)"
      ]
    },
    {
      "cell_type": "code",
      "execution_count": null,
      "id": "9601b6e4-cb90-4e1f-87b4-38ed37076e0d",
      "metadata": {
        "id": "9601b6e4-cb90-4e1f-87b4-38ed37076e0d",
        "outputId": "ed7a6add-94bb-4b8d-b13c-4b136b98ddb7",
        "colab": {
          "base_uri": "https://localhost:8080/"
        }
      },
      "outputs": [
        {
          "output_type": "stream",
          "name": "stdout",
          "text": [
            "The element 56 does not exists in the list\n"
          ]
        }
      ],
      "source": [
        "# Write a Python program to find if a specific element exists in a list.\n",
        "numbers = [10, 50, 45, 70, 30, 25, 65]\n",
        "element_to_find = 56\n",
        "if element_to_find in numbers:\n",
        "    print(f\"The element {element_to_find} exists in the list.\")\n",
        "else:\n",
        "  print(f\"The element {element_to_find} does not exists in the list\")"
      ]
    },
    {
      "cell_type": "code",
      "execution_count": null,
      "id": "9d8e7311-81de-4da2-826c-c4dcad28ed9f",
      "metadata": {
        "id": "9d8e7311-81de-4da2-826c-c4dcad28ed9f",
        "outputId": "392d273d-f65c-4dac-c964-8fdaee77b298",
        "colab": {
          "base_uri": "https://localhost:8080/"
        }
      },
      "outputs": [
        {
          "output_type": "stream",
          "name": "stdout",
          "text": [
            "Original list: [9, 6, 4, 7, 5, 6, 3, 4, 2, 8]\n",
            "List after removing duplicates: [2, 3, 4, 5, 6, 7, 8, 9]\n"
          ]
        }
      ],
      "source": [
        "# Write a Python program to remove duplicates from a list.\n",
        "numbers = [9, 6, 4, 7, 5, 6, 3, 4, 2, 8]\n",
        "unique_numbers = list(set(numbers))\n",
        "print(\"Original list:\", numbers)\n",
        "print(\"List after removing duplicates:\", unique_numbers)"
      ]
    },
    {
      "cell_type": "code",
      "execution_count": null,
      "id": "09e5121b-97b3-42e4-8025-f28f3470681b",
      "metadata": {
        "id": "09e5121b-97b3-42e4-8025-f28f3470681b",
        "outputId": "e9591e3e-f4e8-4de9-e4d5-841595a7b82f",
        "colab": {
          "base_uri": "https://localhost:8080/"
        }
      },
      "outputs": [
        {
          "output_type": "stream",
          "name": "stdout",
          "text": [
            "Original list: [0, 5, 6, 8, 7, 9, 5, 2, 3, 5]\n",
            "Number of occurrences of 5 : 3\n"
          ]
        }
      ],
      "source": [
        "# Write a Python program to count the occurrences of an element in a list.\n",
        "numbers = [0, 5, 6, 8, 7, 9, 5, 2, 3, 5]\n",
        "element_to_count = 5\n",
        "count = numbers.count(element_to_count)\n",
        "print(\"Original list:\", numbers)\n",
        "print(\"Number of occurrences of\",element_to_count,\":\",count)"
      ]
    },
    {
      "cell_type": "code",
      "execution_count": null,
      "id": "b774b741-e9a6-45db-8f00-e6d9b734d03a",
      "metadata": {
        "id": "b774b741-e9a6-45db-8f00-e6d9b734d03a",
        "outputId": "5340359e-c5da-408a-8b3b-2fad379e46fa",
        "colab": {
          "base_uri": "https://localhost:8080/"
        }
      },
      "outputs": [
        {
          "output_type": "stream",
          "name": "stdout",
          "text": [
            "Original list: [1, 2, 3, 4, 5, 6, 7, 8, 9, 10, 11, 12, 13, 14, 15, 16, 17, 18, 19, 20, 21, 22, 23, 24, 25, 26, 27, 28, 29, 30]\n",
            "Number of even numbers: 15\n"
          ]
        }
      ],
      "source": [
        "# Write a Python program to get the number of even numbers in a list.\n",
        "numbers = [1,2,3,4,5,6,7,8,9,10,11,12,13,14,15,16,17,18,19,20,21,22,23,24,25,26,27,28,29,30]\n",
        "even_count = sum(1 for num in numbers if num % 2 == 0)\n",
        "print(\"Original list:\", numbers)\n",
        "print(\"Number of even numbers:\", even_count)"
      ]
    },
    {
      "cell_type": "code",
      "execution_count": null,
      "id": "5ce4fd2b-ab16-4b40-9ac2-d19c244d8d96",
      "metadata": {
        "id": "5ce4fd2b-ab16-4b40-9ac2-d19c244d8d96",
        "outputId": "24580e3c-5010-4d98-f122-365b2fb65f21",
        "colab": {
          "base_uri": "https://localhost:8080/"
        }
      },
      "outputs": [
        {
          "output_type": "stream",
          "name": "stdout",
          "text": [
            "My tuple: (9, 7, 5, 3, 1)\n"
          ]
        }
      ],
      "source": [
        "# Write a Python program to create a tuple and print it.\n",
        "tuple = (9 , 7, 5, 3, 1,)\n",
        "print(\"My tuple:\", tuple)"
      ]
    },
    {
      "cell_type": "code",
      "execution_count": 9,
      "id": "5c04f880-6e96-4ef4-9f4b-df21aae76ff1",
      "metadata": {
        "id": "5c04f880-6e96-4ef4-9f4b-df21aae76ff1",
        "colab": {
          "base_uri": "https://localhost:8080/"
        },
        "outputId": "d52ce910-1fbf-41cd-9651-7d937855063e"
      },
      "outputs": [
        {
          "output_type": "stream",
          "name": "stdout",
          "text": [
            "Tuple: (99, 88, 77, 66)\n",
            "Converted to list: [99, 88, 77, 66]\n",
            "\n",
            "List: [11, 22, 33, 44]\n",
            "Converted to tuple:\n",
            " my_tuple\n"
          ]
        }
      ],
      "source": [
        "# Write a Python program to convert a tuple to a list and vice versa.\n",
        "my_tuple = (99, 88, 77, 66)\n",
        "my_list = list(my_tuple)\n",
        "print(\"Tuple:\", my_tuple)\n",
        "print(\"Converted to list:\", my_list)\n",
        "\n",
        "my_list = [11, 22, 33, 44,]\n",
        "my_tuple = tuple(my_list)\n",
        "print(\"\\nList:\", my_list)\n",
        "print(\"Converted to tuple:\")\n",
        "print(\" my_tuple\")"
      ]
    },
    {
      "cell_type": "code",
      "execution_count": null,
      "id": "d5192acc-27f3-456e-9c72-3b276a587bf5",
      "metadata": {
        "id": "d5192acc-27f3-456e-9c72-3b276a587bf5",
        "outputId": "6e452cbd-9786-49a2-d6e3-f1d6a8c64483",
        "colab": {
          "base_uri": "https://localhost:8080/"
        }
      },
      "outputs": [
        {
          "output_type": "stream",
          "name": "stdout",
          "text": [
            "Tuple: (56, 75, 36, 65, 89, 95, 57, 23, 41, 15)\n",
            "Maximum value: 95\n",
            "Minimum value: 15\n"
          ]
        }
      ],
      "source": [
        "# Write a Python program to find the maximum and minimum values in a tuple.\n",
        "numbers = (56, 75, 36, 65, 89, 95, 57, 23, 41, 15)\n",
        "max_value = max(numbers)\n",
        "min_value = min(numbers)\n",
        "print(\"Tuple:\", numbers)\n",
        "print(\"Maximum value:\", max_value)\n",
        "print(\"Minimum value:\", min_value)"
      ]
    },
    {
      "cell_type": "code",
      "execution_count": null,
      "id": "43f0a340-9407-4302-af7e-4e63db578bbf",
      "metadata": {
        "id": "43f0a340-9407-4302-af7e-4e63db578bbf",
        "outputId": "31fc3706-6ad3-4cb4-f563-c204e0146533",
        "colab": {
          "base_uri": "https://localhost:8080/"
        }
      },
      "outputs": [
        {
          "output_type": "stream",
          "name": "stdout",
          "text": [
            "value of a: 700\n",
            "value of b: 500\n",
            "value of c: 600\n"
          ]
        }
      ],
      "source": [
        "# Write a Python program to unpack a tuple into variables.\n",
        "my_tuple = (700, 500, 600)\n",
        "a, b, c = my_tuple\n",
        "print(\"value of a:\", a)\n",
        "print(\"value of b:\", b)\n",
        "print(\"value of c:\", c)"
      ]
    },
    {
      "cell_type": "code",
      "execution_count": null,
      "id": "46e96e29-2157-4b9f-bb24-0bd973eada9f",
      "metadata": {
        "id": "46e96e29-2157-4b9f-bb24-0bd973eada9f",
        "outputId": "cb18e67c-2797-4607-9d84-7daa4719baca",
        "colab": {
          "base_uri": "https://localhost:8080/"
        }
      },
      "outputs": [
        {
          "output_type": "stream",
          "name": "stdout",
          "text": [
            "set after adding an element: {1, 2, 3, 4, 5, 6, 7, 8, 9}\n",
            "10 does not exists in the set.\n"
          ]
        }
      ],
      "source": [
        "# Write a Python program to add an element to a set and check if an element exists in the set.\n",
        "my_set = {9, 8, 7, 6, 5, 4, 3, 2, 1}\n",
        "my_set.add(8)\n",
        "print(\"set after adding an element:\", my_set)\n",
        "element_to_check = 10\n",
        "if element_to_check in my_set:\n",
        "   print(f\"{element_to_check} exists in the set.\")\n",
        "else:\n",
        "  print(f\"{element_to_check} does not exists in the set.\")"
      ]
    },
    {
      "cell_type": "code",
      "execution_count": null,
      "id": "d81a803b-fd80-403e-9ae3-680ef44a3d86",
      "metadata": {
        "id": "d81a803b-fd80-403e-9ae3-680ef44a3d86",
        "outputId": "1aca158e-1d69-49a1-ce33-f41d9eb5bb94",
        "colab": {
          "base_uri": "https://localhost:8080/"
        }
      },
      "outputs": [
        {
          "output_type": "stream",
          "name": "stdout",
          "text": [
            "Dictionary: {'Name': 'Jyothi', 'Age': 19, 'City': 'India', 'Profession': 'Engineer'}\n"
          ]
        }
      ],
      "source": [
        "# Write a Python program to create a dictionary with keys and values and print it.\n",
        "my_dict = {\n",
        "    \"Name\": \"Jyothi\",\n",
        "    \"Age\": 19,\n",
        "    \"City\": \"India\",\n",
        "    \"Profession\": \"Engineer\"\n",
        "}\n",
        "print(\"Dictionary:\", my_dict)"
      ]
    },
    {
      "cell_type": "code",
      "execution_count": null,
      "id": "7432174b-fe75-4371-b23a-e2c5d62edb15",
      "metadata": {
        "id": "7432174b-fe75-4371-b23a-e2c5d62edb15",
        "outputId": "606270f1-439c-4e92-9d73-0b40f852040b",
        "colab": {
          "base_uri": "https://localhost:8080/"
        }
      },
      "outputs": [
        {
          "output_type": "stream",
          "name": "stdout",
          "text": [
            "The key 'City' does not exist in the dictionary.\n"
          ]
        }
      ],
      "source": [
        "# Write a Python program to access a dictionary value using a key.\n",
        "my_dict = {\n",
        "    \"Name\": \"jessy\",\n",
        "    \"Age\": 19,\n",
        "    \"Profession\": \"Singer\"\n",
        "}\n",
        "key_to_access = \"City\"\n",
        "value = my_dict.get(key_to_access)\n",
        "if value:\n",
        "    print(f\"The value for the key '{key_to_access}' is: {value}\")\n",
        "else:\n",
        "    print(f\"The key '{key_to_access}' does not exist in the dictionary.\")"
      ]
    },
    {
      "cell_type": "code",
      "execution_count": null,
      "id": "000b3260-d91f-41f2-9729-4b0124f2c4d2",
      "metadata": {
        "id": "000b3260-d91f-41f2-9729-4b0124f2c4d2",
        "outputId": "d874b54d-7c2f-4d0a-d975-3d4b44086e7b",
        "colab": {
          "base_uri": "https://localhost:8080/"
        }
      },
      "outputs": [
        {
          "output_type": "stream",
          "name": "stdout",
          "text": [
            "The key 'Age' exists in the dictionary.\n"
          ]
        }
      ],
      "source": [
        "# Write a Python program to check if a key exists in a dictionary.\n",
        "my_dict = {\n",
        "    \"Name\": \"Pranavi\",\n",
        "    \"Age\": 19,\n",
        "    \"City\": \"US\",\n",
        "    \"Profession\": \"B-Tech\"\n",
        "}\n",
        "key_to_check = \"Age\"\n",
        "if key_to_check in my_dict:\n",
        "    print(f\"The key '{key_to_check}' exists in the dictionary.\")\n",
        "else:\n",
        "    print(f\"The key '{key_to_check}' does not exist in the dictionary.\")"
      ]
    },
    {
      "cell_type": "code",
      "execution_count": null,
      "id": "c4b1a942-818e-42c1-b742-1fabe80fca6d",
      "metadata": {
        "id": "c4b1a942-818e-42c1-b742-1fabe80fca6d",
        "outputId": "015ab629-4f04-4d51-87f9-bec4040e05b0",
        "colab": {
          "base_uri": "https://localhost:8080/"
        }
      },
      "outputs": [
        {
          "output_type": "stream",
          "name": "stdout",
          "text": [
            "Merged Dictionary: {'Name': 'Meghana', 'Age': 25, 'City': 'Mumbai', 'Profession': 'Engineer'}\n"
          ]
        }
      ],
      "source": [
        "# Write a Python program to merge two dictionaries.\n",
        "dict1 = {\"Name\": \"Meghana\", \"Age\": 25}\n",
        "dict2 = {\"City\": \"Mumbai\", \"Profession\": \"Engineer\"}\n",
        "merged_dict = dict1.copy()\n",
        "merged_dict.update(dict2)\n",
        "print(\"Merged Dictionary:\", merged_dict)\n",
        "merged_dict_alt = {**dict1, **dict2}"
      ]
    },
    {
      "cell_type": "code",
      "execution_count": null,
      "id": "a78f1070-3ff3-436a-8391-153f019f53cd",
      "metadata": {
        "id": "a78f1070-3ff3-436a-8391-153f019f53cd",
        "outputId": "b557802a-dcd2-4d12-c110-a44e6f5a61e8",
        "colab": {
          "base_uri": "https://localhost:8080/"
        }
      },
      "outputs": [
        {
          "output_type": "stream",
          "name": "stdout",
          "text": [
            "Key 'City' with value 'kerala' was removed.\n",
            "Updated Dictionary: {'Name': 'Sirisha', 'Age': 24, 'Profession': 'Engineer'}\n"
          ]
        }
      ],
      "source": [
        "# Write a Python program to remove a key from a dictionary.\n",
        "my_dict = {\n",
        "    \"Name\": \"Sirisha\",\n",
        "    \"Age\": 24,\n",
        "    \"City\": \"kerala\",\n",
        "    \"Profession\": \"Engineer\"\n",
        "}\n",
        "key_to_remove = \"City\"\n",
        "if key_to_remove in my_dict:\n",
        "    removed_value = my_dict.pop(key_to_remove)\n",
        "    print(f\"Key '{key_to_remove}' with value '{removed_value}' was removed.\")\n",
        "else:\n",
        "    print(f\"Key '{key_to_remove}' does not exist.\")\n",
        "print(\"Updated Dictionary:\", my_dict)"
      ]
    },
    {
      "cell_type": "code",
      "execution_count": null,
      "id": "fcba0267-8cc4-4e89-9e78-2d820916c177",
      "metadata": {
        "id": "fcba0267-8cc4-4e89-9e78-2d820916c177",
        "outputId": "045558f2-fe1a-4d90-855e-dbcdae4fbbf7",
        "colab": {
          "base_uri": "https://localhost:8080/"
        }
      },
      "outputs": [
        {
          "output_type": "stream",
          "name": "stdout",
          "text": [
            "The number of keys in the dictionary is: 3\n"
          ]
        }
      ],
      "source": [
        "# Write a Python program to get the number of keys in a dictionary.\n",
        "my_dict = {\n",
        "    \"Name\": \"Bhavani\",\n",
        "    \"Age\": 20,\n",
        "    \"Profession\": \"Engineer\"\n",
        "}\n",
        "num_keys = len(my_dict)\n",
        "print(f\"The number of keys in the dictionary is: {num_keys}\")"
      ]
    },
    {
      "cell_type": "code",
      "execution_count": null,
      "id": "d4c5fd77-9656-43e5-8fe2-be7dca23eb6d",
      "metadata": {
        "id": "d4c5fd77-9656-43e5-8fe2-be7dca23eb6d",
        "outputId": "ef0673ec-f8c2-4fec-d07d-5b78b19cb814",
        "colab": {
          "base_uri": "https://localhost:8080/"
        }
      },
      "outputs": [
        {
          "output_type": "stream",
          "name": "stdout",
          "text": [
            "Dictionary: {'a': 19, 'b': 28, 'c': 37, 'd': 46, 'e': 55}\n",
            "Largest value: 55\n",
            "Smallest value: 19\n"
          ]
        }
      ],
      "source": [
        "# Write a Python program to find the largest and smallest values in a dictionary.\n",
        "my_dict = {\n",
        "    \"a\": 19,\n",
        "    \"b\": 28,\n",
        "    \"c\": 37,\n",
        "    \"d\": 46,\n",
        "    \"e\": 55\n",
        "}\n",
        "largest_value = max(my_dict.values())\n",
        "smallest_value = min(my_dict.values())\n",
        "print(\"Dictionary:\", my_dict)\n",
        "print(\"Largest value:\", largest_value)\n",
        "print(\"Smallest value:\", smallest_value)"
      ]
    },
    {
      "cell_type": "markdown",
      "id": "7830b8cc-9a90-45a2-8e4a-6f3c2b8b133b",
      "metadata": {
        "id": "7830b8cc-9a90-45a2-8e4a-6f3c2b8b133b"
      },
      "source": [
        "## Functions (User-Defined, Arguments, Keyword Arguments, Return Values)"
      ]
    },
    {
      "cell_type": "code",
      "execution_count": 1,
      "id": "06a33fba-c6b1-4989-90f4-b647d1fe1627",
      "metadata": {
        "id": "06a33fba-c6b1-4989-90f4-b647d1fe1627",
        "colab": {
          "base_uri": "https://localhost:8080/"
        },
        "outputId": "d505bc7f-903f-4109-c6c5-aa3bb802e1f4"
      },
      "outputs": [
        {
          "output_type": "stream",
          "name": "stdout",
          "text": [
            "The square of 55 is: 3025\n"
          ]
        }
      ],
      "source": [
        "# Write a Python function that returns the square of a number.\n",
        "def square(num):\n",
        "    return num ** 2\n",
        "number = 55\n",
        "result = square(number)\n",
        "print(f\"The square of {number} is: {result}\")"
      ]
    },
    {
      "cell_type": "code",
      "execution_count": 2,
      "id": "91d90a4a-7329-45db-893b-caed8450ba96",
      "metadata": {
        "id": "91d90a4a-7329-45db-893b-caed8450ba96",
        "colab": {
          "base_uri": "https://localhost:8080/"
        },
        "outputId": "dc04a874-fd2a-4fbb-b5fa-610cf04e9e27"
      },
      "outputs": [
        {
          "output_type": "stream",
          "name": "stdout",
          "text": [
            "The sum of 15 and 71 is: 86\n"
          ]
        }
      ],
      "source": [
        "# Write a Python function that accepts two parameters and returns their sum.\n",
        "def add_numbers(a, b):\n",
        "    return a + b\n",
        "num1 = 15\n",
        "num2 = 71\n",
        "result = add_numbers(num1, num2)\n",
        "print(f\"The sum of {num1} and {num2} is: {result}\")"
      ]
    },
    {
      "cell_type": "code",
      "execution_count": 3,
      "id": "dec2f9a5-90c5-478b-890b-0a506ecf45d3",
      "metadata": {
        "id": "dec2f9a5-90c5-478b-890b-0a506ecf45d3",
        "colab": {
          "base_uri": "https://localhost:8080/"
        },
        "outputId": "c4d3287f-e503-4160-e138-6998dab6a212"
      },
      "outputs": [
        {
          "output_type": "stream",
          "name": "stdout",
          "text": [
            "57 is not a prime number.\n"
          ]
        }
      ],
      "source": [
        "# Write a Python function to check if a given number is prime.\n",
        "def is_prime(num):\n",
        "    if num <= 1:\n",
        "        return False\n",
        "    for i in range(2, int(num ** 0.5) + 1):\n",
        "        if num % i == 0:\n",
        "            return False\n",
        "    return True\n",
        "number = 57\n",
        "if is_prime(number):\n",
        "    print(f\"{number} is a prime number.\")\n",
        "else:\n",
        "    print(f\"{number} is not a prime number.\")"
      ]
    },
    {
      "cell_type": "code",
      "execution_count": 4,
      "id": "56337441-68c3-45df-8733-a34cde0533a5",
      "metadata": {
        "id": "56337441-68c3-45df-8733-a34cde0533a5",
        "colab": {
          "base_uri": "https://localhost:8080/"
        },
        "outputId": "c7a2bf00-6fe5-49a0-9bfe-cbf90d9fb3cb"
      },
      "outputs": [
        {
          "output_type": "stream",
          "name": "stdout",
          "text": [
            "The factorial of 56 is: 710998587804863451854045647463724949736497978881168458687447040000000000000\n"
          ]
        }
      ],
      "source": [
        "# Write a Python function to calculate the factorial of a number using recursion.\n",
        "def factorial(n):\n",
        "    if n == 0:\n",
        "        return 1\n",
        "    else:\n",
        "        return n * factorial(n - 1)\n",
        "number = 56\n",
        "result = factorial(number)\n",
        "print(f\"The factorial of {number} is: {result}\")"
      ]
    },
    {
      "cell_type": "code",
      "execution_count": 5,
      "id": "84a2d010-e7b2-409b-b1f4-99bf806bb77a",
      "metadata": {
        "id": "84a2d010-e7b2-409b-b1f4-99bf806bb77a",
        "colab": {
          "base_uri": "https://localhost:8080/"
        },
        "outputId": "e7d3ad06-4f89-4f81-973a-690f675d8b17"
      },
      "outputs": [
        {
          "output_type": "stream",
          "name": "stdout",
          "text": [
            "7 to the power of 5 is: 16807\n"
          ]
        }
      ],
      "source": [
        "# Write a Python function to calculate the power of a number using recursion.\n",
        "def power(base, exponent):\n",
        "    if exponent == 0:\n",
        "        return 1\n",
        "    elif exponent < 0:\n",
        "        return 1 / power(base, -exponent)\n",
        "    else:\n",
        "        return base * power(base, exponent - 1)\n",
        "base = 7\n",
        "exponent = 5\n",
        "result = power(base, exponent)\n",
        "print(f\"{base} to the power of {exponent} is: {result}\")"
      ]
    },
    {
      "cell_type": "code",
      "execution_count": 6,
      "id": "ec44911e-7820-46cc-96a3-4ca443888837",
      "metadata": {
        "id": "ec44911e-7820-46cc-96a3-4ca443888837",
        "colab": {
          "base_uri": "https://localhost:8080/"
        },
        "outputId": "43c2fc30-2c34-42df-d4d7-e7c4e7c5ef48"
      },
      "outputs": [
        {
          "output_type": "stream",
          "name": "stdout",
          "text": [
            "The length of the list is: 10\n"
          ]
        }
      ],
      "source": [
        "# Write a Python function to accept a list and return its length without using the built-in len() function.\n",
        "def custom_length(lst):\n",
        "    count = 0\n",
        "    for _ in lst:\n",
        "        count += 1\n",
        "    return count\n",
        "my_list = [0, 9, 8, 7, 6, 5, 4, 3, 2, 1]\n",
        "result = custom_length(my_list)\n",
        "print(f\"The length of the list is: {result}\")"
      ]
    },
    {
      "cell_type": "code",
      "execution_count": 7,
      "id": "fb4c08e1-34f3-487a-a1c6-77cd60fb4836",
      "metadata": {
        "id": "fb4c08e1-34f3-487a-a1c6-77cd60fb4836",
        "colab": {
          "base_uri": "https://localhost:8080/"
        },
        "outputId": "02e314ed-d600-40e4-ff1f-f8bd2e11639a"
      },
      "outputs": [
        {
          "output_type": "stream",
          "name": "stdout",
          "text": [
            "The sum of the positional arguments is: 35\n"
          ]
        }
      ],
      "source": [
        "# Write a Python function that accepts both positional and keyword arguments and prints the sum of positional arguments.\n",
        "def sum_positional(*args, **kwargs):\n",
        "    total = sum(args)\n",
        "    print(f\"The sum of the positional arguments is: {total}\")\n",
        "sum_positional(9, 8, 7, 6, 5, name=\"swetha\", age=19)"
      ]
    },
    {
      "cell_type": "code",
      "execution_count": 12,
      "id": "f4ffc7a8-f579-461c-b507-4085a0477283",
      "metadata": {
        "id": "f4ffc7a8-f579-461c-b507-4085a0477283",
        "colab": {
          "base_uri": "https://localhost:8080/"
        },
        "outputId": "3ea8087e-b618-41f1-a597-877534703df2"
      },
      "outputs": [
        {
          "output_type": "stream",
          "name": "stdout",
          "text": [
            "enter a number:15\n",
            "enter a number:17\n",
            "The maximum of the two numbers is: 17\n"
          ]
        }
      ],
      "source": [
        "# Write a Python function to find the maximum of two numbers using keyword arguments.\n",
        "def find_maximum(**kwargs):\n",
        "    num1 = kwargs.get('num1')\n",
        "    num2 = kwargs.get('num2')\n",
        "    if num1 is None or num2 is None:\n",
        "        return \"Please provide both 'num1' and 'num2' as keyword arguments.\"\n",
        "    return max(num1, num2)\n",
        "result = find_maximum(num1=int(input(\"enter a number:\")), num2=int(input(\"enter a number:\")))\n",
        "print(f\"The maximum of the two numbers is: {result}\")"
      ]
    },
    {
      "cell_type": "code",
      "execution_count": 13,
      "id": "0b00c4af-89e0-43e8-a991-1b684d2ce33f",
      "metadata": {
        "id": "0b00c4af-89e0-43e8-a991-1b684d2ce33f",
        "colab": {
          "base_uri": "https://localhost:8080/"
        },
        "outputId": "caa918f8-d975-4e61-c885-74f549a6f7f0"
      },
      "outputs": [
        {
          "output_type": "stream",
          "name": "stdout",
          "text": [
            "The product of the numbers is: None\n"
          ]
        }
      ],
      "source": [
        "# Write a Python function that accepts a list of numbers and returns their product.\n",
        "def calculate_product(numbers):\n",
        "    product = 1\n",
        "    for num in numbers:\n",
        "        product *= num\n",
        "    return\n",
        "    product\n",
        "numbers_list = [11, 12, 13, 14, 15, 16, 17, 18, 19]\n",
        "result = calculate_product(numbers_list)\n",
        "print(f\"The product of the numbers is: {result}\")"
      ]
    },
    {
      "cell_type": "code",
      "execution_count": 19,
      "id": "9cd11703-5b48-44fe-af4e-ea906a2762c9",
      "metadata": {
        "id": "9cd11703-5b48-44fe-af4e-ea906a2762c9",
        "colab": {
          "base_uri": "https://localhost:8080/"
        },
        "outputId": "31af5558-8d98-4abb-94f0-ffc5fb730f84"
      },
      "outputs": [
        {
          "output_type": "stream",
          "name": "stdout",
          "text": [
            "Enter a number:12\n",
            "12 is even.\n",
            "Enter a number:17\n",
            "17 is odd.\n"
          ]
        }
      ],
      "source": [
        "# Write a Python function to check if a number is even or odd using the modulo operator.\n",
        "def check_even_odd(number):\n",
        "  if number % 2 == 0:\n",
        "        return f\"{number} is even.\"\n",
        "  else:\n",
        "        return f\"{number} is odd.\"\n",
        "\n",
        "result = check_even_odd(int(input(\"Enter a number:\")))\n",
        "print(result)\n",
        "\n",
        "result = check_even_odd(int(input(\"Enter a number:\")))\n",
        "print(result)"
      ]
    },
    {
      "cell_type": "code",
      "execution_count": 22,
      "id": "afbf262e-daed-40a9-827f-82fa60979610",
      "metadata": {
        "id": "afbf262e-daed-40a9-827f-82fa60979610",
        "colab": {
          "base_uri": "https://localhost:8080/"
        },
        "outputId": "114dfb4b-4bbc-447a-e2ce-706c18efa1af"
      },
      "outputs": [
        {
          "output_type": "stream",
          "name": "stdout",
          "text": [
            "enter a number:0\n",
            "enter a number:50\n",
            "[0, 1, 4, 9, 16, 25, 36, 49, 64, 81, 100, 121, 144, 169, 196, 225, 256, 289, 324, 361, 400, 441, 484, 529, 576, 625, 676, 729, 784, 841, 900, 961, 1024, 1089, 1156, 1225, 1296, 1369, 1444, 1521, 1600, 1681, 1764, 1849, 1936, 2025, 2116, 2209, 2304, 2401]\n"
          ]
        }
      ],
      "source": [
        "# Write a Python program to create a list of squares of numbers from 1 to 10 using list comprehension.\n",
        "a = int(input(\"enter a number:\"))\n",
        "b = int(input(\"enter a number:\"))\n",
        "squares = [x ** 2 for x in range(a, b)]\n",
        "print(squares)"
      ]
    },
    {
      "cell_type": "code",
      "execution_count": 25,
      "id": "7fff76d8-9ba8-4006-9be6-6f7350092d1c",
      "metadata": {
        "id": "7fff76d8-9ba8-4006-9be6-6f7350092d1c",
        "colab": {
          "base_uri": "https://localhost:8080/"
        },
        "outputId": "bdf6b551-f838-48a4-8ff6-297ae07b3893"
      },
      "outputs": [
        {
          "output_type": "stream",
          "name": "stdout",
          "text": [
            "Enter lower range:15\n",
            "Enter upper range:75\n",
            "[16, 18, 20, 22, 24, 26, 28, 30, 32, 34, 36, 38, 40, 42, 44, 46, 48, 50, 52, 54, 56, 58, 60, 62, 64, 66, 68, 70, 72, 74]\n"
          ]
        }
      ],
      "source": [
        "# Write a Python program to filter out all even numbers from a list using list comprehension.\n",
        "lower = int(input(\"Enter lower range:\"))\n",
        "upper = int(input(\"Enter upper range:\"))\n",
        "numbers = list(range(lower, upper))\n",
        "even_numbers = [num for num in numbers if num % 2 == 0]\n",
        "print(even_numbers)"
      ]
    },
    {
      "cell_type": "code",
      "execution_count": 30,
      "id": "6ae9b8df-38f9-4fd7-bad1-aa7b07cc9271",
      "metadata": {
        "id": "6ae9b8df-38f9-4fd7-bad1-aa7b07cc9271",
        "colab": {
          "base_uri": "https://localhost:8080/"
        },
        "outputId": "752ee19d-6062-40c3-9747-5d1e4cfd2bef"
      },
      "outputs": [
        {
          "output_type": "stream",
          "name": "stdout",
          "text": [
            "['devops', 'computer networks', 'skill development']\n"
          ]
        }
      ],
      "source": [
        "# Write a Python program to create a list of strings that are longer than 4 characters from a given list of words using list comprehension.\n",
        "words = [\"devops\", \"computer networks\", \"skill development\", \"daa\", \"da\", \"ipr\"]\n",
        "long_words = [word for word in words if len(word) >= 6]\n",
        "print(long_words)"
      ]
    },
    {
      "cell_type": "code",
      "execution_count": 35,
      "id": "f492c7d4-6ad3-48ab-9b61-232be02aecee",
      "metadata": {
        "id": "f492c7d4-6ad3-48ab-9b61-232be02aecee",
        "colab": {
          "base_uri": "https://localhost:8080/"
        },
        "outputId": "4e0e4fa7-4b71-42f8-ea05-6d69a62ed784"
      },
      "outputs": [
        {
          "output_type": "stream",
          "name": "stdout",
          "text": [
            "enter a string:Tejaswni Naga Sri Jyothi\n",
            "Uppercase letters in the string: ['T', 'N', 'S', 'J']\n"
          ]
        }
      ],
      "source": [
        "# Write a Python program to create a list of all uppercase letters in a string using list comprehension.\n",
        "def get_uppercase_letters(input_string):\n",
        "    uppercase_letters = [char for char in input_string if char.isupper()]\n",
        "    return uppercase_letters\n",
        "\n",
        "input_string = (input(\"enter a string:\"))\n",
        "result = get_uppercase_letters(input_string)\n",
        "print(\"Uppercase letters in the string:\", result)"
      ]
    },
    {
      "cell_type": "code",
      "execution_count": 36,
      "id": "929a7f74-1762-4a2a-be23-bacf67ff4d8b",
      "metadata": {
        "id": "929a7f74-1762-4a2a-be23-bacf67ff4d8b",
        "colab": {
          "base_uri": "https://localhost:8080/"
        },
        "outputId": "934c579e-0c54-423e-8e6d-716390b92a5a"
      },
      "outputs": [
        {
          "output_type": "stream",
          "name": "stdout",
          "text": [
            "enter a number:30\n",
            "The first 30 Fibonacci numbers are: [0, 1, 1, 2, 3, 5, 8, 13, 21, 34, 55, 89, 144, 233, 377, 610, 987, 1597, 2584, 4181, 6765, 10946, 17711, 28657, 46368, 75025, 121393, 196418, 317811, 514229]\n"
          ]
        }
      ],
      "source": [
        "# Write a Python program to generate the first n Fibonacci numbers using list comprehension.\n",
        "def fibonacci_numbers(n):\n",
        "    fib = [0, 1]\n",
        "    [fib.append(fib[-1] + fib[-2]) for _ in range(2, n)]\n",
        "    return fib[:n]\n",
        "n = int(input(\"enter a number:\"))\n",
        "result = fibonacci_numbers(n)\n",
        "print(f\"The first {n} Fibonacci numbers are: {result}\")"
      ]
    },
    {
      "cell_type": "code",
      "execution_count": 38,
      "id": "47188bbc-cf62-47bb-a14e-0582c8b5cdd9",
      "metadata": {
        "id": "47188bbc-cf62-47bb-a14e-0582c8b5cdd9",
        "colab": {
          "base_uri": "https://localhost:8080/"
        },
        "outputId": "75335933-2d09-4ce3-ff48-728cb05e8f74"
      },
      "outputs": [
        {
          "output_type": "stream",
          "name": "stdout",
          "text": [
            "enter a number:7\n",
            "Dictionary of numbers and their squares up to 7: {1: 1, 2: 4, 3: 9, 4: 16, 5: 25, 6: 36, 7: 49}\n"
          ]
        }
      ],
      "source": [
        "# Write a Python program to create a dictionary where keys are numbers and values are their squares using dictionary comprehension.\n",
        "def create_square_dict(n):\n",
        "    square_dict = {x: x**2 for x in range(1, n+1)}\n",
        "    return square_dict\n",
        "n = int(input(\"enter a number:\"))\n",
        "result = create_square_dict(n)\n",
        "print(f\"Dictionary of numbers and their squares up to {n}: {result}\")"
      ]
    },
    {
      "cell_type": "code",
      "execution_count": 42,
      "id": "3c4637d3-aa85-4b4c-acf3-953c10818bcb",
      "metadata": {
        "id": "3c4637d3-aa85-4b4c-acf3-953c10818bcb",
        "colab": {
          "base_uri": "https://localhost:8080/"
        },
        "outputId": "2df7ba17-44e7-46a9-e11c-505b45d20cf3"
      },
      "outputs": [
        {
          "output_type": "stream",
          "name": "stdout",
          "text": [
            "{'s': '9', 't': '8', 'u': '7', 'v': '6', 'w': '5'}\n"
          ]
        }
      ],
      "source": [
        "# Write a Python program to create a dictionary from two lists (one for keys and one for values) using dictionary comprehension.\n",
        "keys = [\"s\", \"t\", \"u\", \"v\", \"w\"]\n",
        "values = [\"9\", \"8\", \"7\", \"6\", \"5\"]\n",
        "result = {key: value for key, value in zip(keys, values)}\n",
        "print(result)"
      ]
    },
    {
      "cell_type": "code",
      "execution_count": 48,
      "id": "de817d6f-96e7-4346-839e-1ef0df539b6b",
      "metadata": {
        "id": "de817d6f-96e7-4346-839e-1ef0df539b6b",
        "colab": {
          "base_uri": "https://localhost:8080/"
        },
        "outputId": "d233e702-2e17-4d56-b363-a903c12524d4"
      },
      "outputs": [
        {
          "output_type": "stream",
          "name": "stdout",
          "text": [
            "Dictionary of numbers and their cubes: {0: 0, 1: 1, 2: 8, 3: 27, 4: 64, 5: 125, 6: 216, 7: 343, 8: 512, 9: 729, 10: 1000, 11: 1331, 12: 1728, 13: 2197, 14: 2744, 15: 3375, 16: 4096, 17: 4913, 18: 5832, 19: 6859, 20: 8000, 21: 9261, 22: 10648, 23: 12167, 24: 13824}\n"
          ]
        }
      ],
      "source": [
        "# Write a Python program to create a dictionary of numbers from 1 to 5 and their cubes using dictionary comprehension.\n",
        "def create_cube_dict():\n",
        "    cube_dict = {x: x**3 for x in range(0,25)}\n",
        "    return cube_dict\n",
        "result = create_cube_dict()\n",
        "print(f\"Dictionary of numbers and their cubes: {result}\")"
      ]
    },
    {
      "cell_type": "code",
      "execution_count": 49,
      "id": "33695301-057e-49a6-9f80-a2f4e3af60ed",
      "metadata": {
        "id": "33695301-057e-49a6-9f80-a2f4e3af60ed",
        "colab": {
          "base_uri": "https://localhost:8080/"
        },
        "outputId": "7e5753fe-8f08-4ffa-c3b4-0800cc3837b5"
      },
      "outputs": [
        {
          "output_type": "stream",
          "name": "stdout",
          "text": [
            "Squared elements of the list: [81, 64, 49, 36, 25]\n"
          ]
        }
      ],
      "source": [
        "# Write a Python program to square each element of a list using the map() function.\n",
        "def square_elements(input_list):\n",
        "    return list(map(lambda x: x**2, input_list))\n",
        "input_list = [9, 8, 7, 6, 5]\n",
        "result = square_elements(input_list)\n",
        "print(f\"Squared elements of the list: {result}\")"
      ]
    },
    {
      "cell_type": "code",
      "execution_count": 1,
      "id": "6d4d17f3-c40f-4944-8656-c6416b600361",
      "metadata": {
        "id": "6d4d17f3-c40f-4944-8656-c6416b600361",
        "colab": {
          "base_uri": "https://localhost:8080/"
        },
        "outputId": "f530a59f-502e-44ae-c9e8-b0734f77e0b5"
      },
      "outputs": [
        {
          "output_type": "stream",
          "name": "stdout",
          "text": [
            "Even numbers from the list: [10, 20, 30, 40, 50, 60, 70, 80, 90, 100]\n"
          ]
        }
      ],
      "source": [
        "# Write a Python program to filter all even numbers from a list using the filter() function.\n",
        "def filter_even_numbers(input_list):\n",
        "    return list(filter(lambda x: x % 2 == 0, input_list))\n",
        "\n",
        "input_list = [5,10,15,20,25,30,35,40,45,50,55,60,65,70,75,80,85,90,95,100]\n",
        "result = filter_even_numbers(input_list)\n",
        "print(f\"Even numbers from the list: {result}\")"
      ]
    },
    {
      "cell_type": "code",
      "execution_count": 13,
      "id": "6634ba1f-9f81-475e-b7c4-422d102afb75",
      "metadata": {
        "id": "6634ba1f-9f81-475e-b7c4-422d102afb75",
        "colab": {
          "base_uri": "https://localhost:8080/"
        },
        "outputId": "07d26d90-f106-4ed3-8837-d06b30cd3533"
      },
      "outputs": [
        {
          "output_type": "stream",
          "name": "stdout",
          "text": [
            "Enter num1:15\n",
            "15 is divisible by both 3 and 5: True\n",
            "Enter num2:77\n",
            "77 is not divisible by both 3 and 5: False\n"
          ]
        }
      ],
      "source": [
        "# Write a Python program to use a lambda function to check if a number is divisible by both 3 and 5.\n",
        "def check_divisibility(num):\n",
        "    return (lambda x: x % 3 == 0 and x % 5 == 0)(num)\n",
        "num1 = int(input(\"Enter num1:\"))\n",
        "result = check_divisibility(num1)\n",
        "if result:\n",
        "  print(f\"{num1} is divisible by both 3 and 5: {result}\")\n",
        "else:\n",
        "    print(f\"{num1} is not divisible by both 3 and 5: {result}\")\n",
        "num2 = int(input(\"Enter num2:\"))\n",
        "result = check_divisibility(num2)\n",
        "if result:\n",
        "  print(f\"{num2} is divisible by both 3 and 5: {result}\")\n",
        "else:\n",
        "    print(f\"{num2} is not divisible by both 3 and 5: {result}\")"
      ]
    },
    {
      "cell_type": "code",
      "execution_count": 6,
      "id": "0aac8430-5d77-439d-9a99-9598fadf989c",
      "metadata": {
        "id": "0aac8430-5d77-439d-9a99-9598fadf989c",
        "colab": {
          "base_uri": "https://localhost:8080/"
        },
        "outputId": "27f97cc4-d9eb-49dc-81ac-01132c788ff2"
      },
      "outputs": [
        {
          "output_type": "stream",
          "name": "stdout",
          "text": [
            "Numbers multiplied by 7: [63, 56, 49, 42, 35, 28, 21, 14, 7]\n"
          ]
        }
      ],
      "source": [
        "# Write a Python program to multiply all numbers in a list by 2 using a lambda function inside map().\n",
        "def multiply_by_two(input_list):\n",
        "    return list(map(lambda x: x * 7, input_list))\n",
        "input_list = [9, 8, 7, 6, 5, 4, 3, 2, 1]\n",
        "result = multiply_by_two(input_list)\n",
        "print(f\"Numbers multiplied by 7: {result}\")"
      ]
    },
    {
      "cell_type": "code",
      "execution_count": 8,
      "id": "e4cd5ba8-c6ec-4f0d-8787-bf0a4b7a2e22",
      "metadata": {
        "id": "e4cd5ba8-c6ec-4f0d-8787-bf0a4b7a2e22",
        "colab": {
          "base_uri": "https://localhost:8080/"
        },
        "outputId": "14e3346e-8625-4cac-b541-f883ce8e32be"
      },
      "outputs": [
        {
          "output_type": "stream",
          "name": "stdout",
          "text": [
            "List after removing all occurrences of 15: [18, 17, 19, 16, 20, 22, 24]\n"
          ]
        }
      ],
      "source": [
        "# Write a Python program to remove all occurrences of a specific element from a list.\n",
        "def remove_occurrences(input_list, element):\n",
        "    return [item for item in input_list if item != element]\n",
        "input_list = [18, 15, 17, 15, 19, 15, 16, 20, 22, 24]\n",
        "element_to_remove = 15\n",
        "result = remove_occurrences(input_list, element_to_remove)\n",
        "print(f\"List after removing all occurrences of {element_to_remove}: {result}\")"
      ]
    },
    {
      "cell_type": "markdown",
      "id": "caba77c7-93db-4893-8f48-c7365ed5c585",
      "metadata": {
        "id": "caba77c7-93db-4893-8f48-c7365ed5c585"
      },
      "source": [
        "**Note:**\n",
        "- All assignments must follow [PEP 8 – Style Guide for Python Code](https://peps.python.org/pep-0008/) guidelines.\n",
        "- You can add multiple solutions for each question. Create a new code cell next to the question and add it. Shortcut for creating cell : `Alt + Enter`"
      ]
    }
  ],
  "metadata": {
    "kernelspec": {
      "display_name": "Python 3 (ipykernel)",
      "language": "python",
      "name": "python3"
    },
    "language_info": {
      "codemirror_mode": {
        "name": "ipython",
        "version": 3
      },
      "file_extension": ".py",
      "mimetype": "text/x-python",
      "name": "python",
      "nbconvert_exporter": "python",
      "pygments_lexer": "ipython3",
      "version": "3.12.6"
    },
    "colab": {
      "provenance": [],
      "include_colab_link": true
    }
  },
  "nbformat": 4,
  "nbformat_minor": 5
}